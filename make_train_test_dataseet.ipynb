{
 "cells": [
  {
   "cell_type": "markdown",
   "metadata": {},
   "source": [
    "train dataset과 test 데이터셋으로 나눌것\n",
    "그런데 train folder test folder만들진 않고\n",
    "train,test에 해당하는 내용의 리스트만 받아올거임 "
   ]
  },
  {
   "cell_type": "code",
   "execution_count": 5,
   "metadata": {},
   "outputs": [],
   "source": [
    "import numpy as np\n",
    "import glob\n",
    "import os\n",
    "import nibabel as nib\n",
    "from skimage import measure\n",
    "import numpy\n",
    "import pandas as pd\n",
    "import pydicom\n",
    "import numpy\n",
    "import matplotlib.pyplot as plt\n",
    "from mpl_toolkits.mplot3d import axes3d, Axes3D\n",
    "import numpy as np\n",
    "import matplotlib.pyplot as plt\n",
    "import nibabel as nib\n",
    "import time\n",
    "import glob\n",
    "import pydicom\n",
    "import numpy as np\n",
    "from vtkplotter import Volume\n",
    "import sys, os\n",
    "# 패키지 불러오기\n",
    "import numpy as np\n",
    "import random\n",
    "import cv2\n",
    "import time\n",
    "%matplotlib inline\n",
    "import matplotlib.pyplot as plt\n",
    "from PIL import Image\n",
    "from tqdm import tqdm\n",
    "import pickle\n"
   ]
  },
  {
   "cell_type": "code",
   "execution_count": 6,
   "metadata": {},
   "outputs": [],
   "source": [
    "object_dir = r\"C:\\Users\\razer\\Desktop\\new_npy/\" #ct 원 영상들과 rt structure가 있는 파일들\n",
    "data_list = os.listdir(object_dir) #파일들의 리스트\n",
    "import tensorflow as tf\n",
    "tf.debugging.set_log_device_placement(True)\n"
   ]
  },
  {
   "cell_type": "code",
   "execution_count": 7,
   "metadata": {},
   "outputs": [
    {
     "data": {
      "text/plain": [
       "True"
      ]
     },
     "execution_count": 7,
     "metadata": {},
     "output_type": "execute_result"
    }
   ],
   "source": [
    "tf.test.is_gpu_available(\n",
    "    cuda_only=True, min_cuda_compute_capability=None\n",
    ")"
   ]
  },
  {
   "cell_type": "markdown",
   "metadata": {},
   "source": [
    "data 풀 저장"
   ]
  },
  {
   "cell_type": "code",
   "execution_count": 8,
   "metadata": {
    "scrolled": true
   },
   "outputs": [
    {
     "name": "stderr",
     "output_type": "stream",
     "text": [
      "100%|██████████████████████████████████████████████████████████████████████████████████| 10/10 [00:48<00:00,  4.87s/it]\n"
     ]
    }
   ],
   "source": [
    "train_data_set = [] # 원 영상인 image.nii.gz를 받아올 폴더들 (순차적으로 들어감)\n",
    "test_data_set = [] # 나머지 rt structure에서 변환되어진 segmentation된 nii.gz를 받아올 폴더\n",
    "k= {}\n",
    "\n",
    "\n",
    "for p in tqdm(data_list[0:10]): #전체 데이터세트가 모여져있는 환자 폴더들의 리스트에서 10개만 뽑아옴\n",
    "    path = object_dir + p +'/' # 각 폴더마다 원영상들과 rt structure파일들을 받아와야함\n",
    "    img = glob.glob(path +'*.nii.gz') # 폴더 내에서 원 영상들과 연결되어 있는 파일들중 nii.gz로 끝나는 파일들을 가져옴\n",
    "    for i in img: # 이제 image.nii.gz와 segmentation된 nii.gz를 나눌것임\n",
    "    \n",
    "        img_translate = nib.load(i)  # 파일을 불러옴\n",
    "        p = np.array(img_translate.dataobj) #파일을 어레이로 만듦\n",
    "        if \"image.nii.gz\" in i.lower(): #원영상들만 받아서\n",
    "            train_data_set.append(p) #train, test에 박음 \n",
    "            test_data_set.append(p)\n",
    "        elif \"mask_thyroid.nii.gz\" in i.lower(): # elif로 원하는 리스트에 3d array로 넣을 수 있음 \n",
    "            test_data_set.append(p) # \n",
    "        else:\n",
    "            pass #다른 영상들은 pass시킴\n",
    "#         verts, faces, normals, values = measure.marching_cubes_lewiner(k[i], 0) 3d array만들려고 skilearn의 measure에서 따옴\n",
    "#         fig = plt.figure()\n",
    "#         ax = fig.add_subplot(111, projection='3d')\n",
    "#         ax.plot_trisurf(verts[:, 0], verts[:,1], faces, verts[:, 2],\n",
    "#                     linewidth=0.2, antialiased=True)\n",
    "#         print( i +'영상입니다.')\n",
    "#         plt.show()\n",
    "#         a = k[i].shape[0]\n",
    "#         b = k[i].shape[1]\n",
    "#         c = k[i].shape[2]\n",
    "#        \n",
    "        \n",
    "#  with open(i+'myfulldataset.bin','wb') as f: # pickle로 저장하는 과정\n",
    "#     pickledump(fulldataset,f)      \n",
    "\n"
   ]
  },
  {
   "cell_type": "code",
   "execution_count": 130,
   "metadata": {},
   "outputs": [
    {
     "name": "stdout",
     "output_type": "stream",
     "text": [
      "(512, 512, 157) 10 (512, 512, 157) 10\n"
     ]
    }
   ],
   "source": [
    "print(train_data_set[1].shape,len(train_data_set),test_data_set[1].shape,len(test_data_set))"
   ]
  },
  {
   "cell_type": "code",
   "execution_count": 113,
   "metadata": {},
   "outputs": [],
   "source": [
    "깃헙 마스터, 모델 긁어오기.\n",
    "라인별로 다 뜯어오기\n"
   ]
  },
  {
   "cell_type": "code",
   "execution_count": null,
   "metadata": {},
   "outputs": [],
   "source": []
  }
 ],
 "metadata": {
  "kernelspec": {
   "display_name": "Python 3",
   "language": "python",
   "name": "python3"
  },
  "language_info": {
   "codemirror_mode": {
    "name": "ipython",
    "version": 3
   },
   "file_extension": ".py",
   "mimetype": "text/x-python",
   "name": "python",
   "nbconvert_exporter": "python",
   "pygments_lexer": "ipython3",
   "version": "3.7.4"
  }
 },
 "nbformat": 4,
 "nbformat_minor": 2
}
